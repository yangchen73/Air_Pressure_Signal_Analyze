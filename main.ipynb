{
 "cells": [
  {
   "cell_type": "code",
   "execution_count": 4,
   "metadata": {},
   "outputs": [],
   "source": [
    "import pandas as pd\n",
    "import numpy\n",
    "import sys\n",
    "sys.path.append('/Users/yangchen/Desktop/Air_Pressure_Signal_Analyze')\n",
    "import plot"
   ]
  },
  {
   "cell_type": "code",
   "execution_count": 5,
   "metadata": {},
   "outputs": [
    {
     "data": {
      "text/plain": [
       "array([426.25, 427.5 , 426.25, ..., 441.25, 440.  , 441.25])"
      ]
     },
     "execution_count": 5,
     "metadata": {},
     "output_type": "execute_result"
    }
   ],
   "source": [
    "result_01 = pd.read_csv('data/exp_pressure_01_cut.csv')\n",
    "result_02 = pd.read_csv('data/exp_pressure_02_cut.csv')\n",
    "result_03 = pd.read_csv('data/exp_pressure_02_cut.csv')\n",
    "\n",
    "barometer_01_1 = result_01.iloc[:, 0].to_numpy()\n",
    "barometer_01_2 = result_01.iloc[:, 1].to_numpy()\n",
    "barometer_01_3 = result_01.iloc[:, 2].to_numpy()\n",
    "barometer_01_4 = result_01.iloc[:, 3].to_numpy()\n",
    "barometer_01_5 = result_01.iloc[:, 4].to_numpy()\n",
    "barometer_01_6 = result_01.iloc[:, 5].to_numpy()\n",
    "\n",
    "barometer_02_1 = result_02.iloc[:, 0].to_numpy()\n",
    "barometer_02_2 = result_02.iloc[:, 1].to_numpy()\n",
    "barometer_02_3 = result_02.iloc[:, 2].to_numpy()\n",
    "barometer_02_4 = result_02.iloc[:, 3].to_numpy()\n",
    "barometer_02_5 = result_02.iloc[:, 4].to_numpy()\n",
    "barometer_02_6 = result_02.iloc[:, 5].to_numpy()\n",
    "\n",
    "barometer_03_1 = result_03.iloc[:, 0].to_numpy()\n",
    "barometer_03_2 = result_03.iloc[:, 1].to_numpy()\n",
    "barometer_03_3 = result_03.iloc[:, 2].to_numpy()\n",
    "barometer_03_4 = result_03.iloc[:, 3].to_numpy()\n",
    "barometer_03_5 = result_03.iloc[:, 4].to_numpy()\n",
    "barometer_03_6 = result_03.iloc[:, 5].to_numpy()\n",
    "\n",
    "barometer_01_1"
   ]
  },
  {
   "cell_type": "code",
   "execution_count": 6,
   "metadata": {},
   "outputs": [
    {
     "ename": "AttributeError",
     "evalue": "module 'plot' has no attribute 'plot_p_t'",
     "output_type": "error",
     "traceback": [
      "\u001b[0;31m---------------------------------------------------------------------------\u001b[0m",
      "\u001b[0;31mAttributeError\u001b[0m                            Traceback (most recent call last)",
      "Cell \u001b[0;32mIn[6], line 1\u001b[0m\n\u001b[0;32m----> 1\u001b[0m plot\u001b[38;5;241m.\u001b[39mplot_p_t(barometer_02_1, barometer_02_2, barometer_02_3, barometer_02_4, barometer_02_5, barometer_02_6)\n",
      "\u001b[0;31mAttributeError\u001b[0m: module 'plot' has no attribute 'plot_p_t'"
     ]
    }
   ],
   "source": [
    "\n",
    "plot.plot_p_t(barometer_02_1, barometer_02_2, barometer_02_3, barometer_02_4, barometer_02_5, barometer_02_6)"
   ]
  }
 ],
 "metadata": {
  "kernelspec": {
   "display_name": "base",
   "language": "python",
   "name": "python3"
  },
  "language_info": {
   "codemirror_mode": {
    "name": "ipython",
    "version": 3
   },
   "file_extension": ".py",
   "mimetype": "text/x-python",
   "name": "python",
   "nbconvert_exporter": "python",
   "pygments_lexer": "ipython3",
   "version": "3.12.2"
  }
 },
 "nbformat": 4,
 "nbformat_minor": 2
}
